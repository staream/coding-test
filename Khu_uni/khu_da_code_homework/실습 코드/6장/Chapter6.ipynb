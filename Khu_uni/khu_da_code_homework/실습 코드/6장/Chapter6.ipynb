{
 "cells": [
  {
   "cell_type": "markdown",
   "id": "75411ea5-2879-4cba-8fd7-3051a795c197",
   "metadata": {},
   "source": [
    "# 6장\n",
    "\n",
    "- '물류'의 기초가 되는 '운송최적화'를 검토\n",
    "- 최적 물류 계획을 세우는 흐름을 배울 예정"
   ]
  },
  {
   "cell_type": "markdown",
   "id": "438e6cd6-a13a-4076-8a92-15b793a1bb45",
   "metadata": {},
   "source": [
    "## 51. 물류 데이터 불러오기"
   ]
  },
  {
   "cell_type": "code",
   "execution_count": 5,
   "id": "aaaf4b00-78f6-47b1-ba1e-b1fdbad7edeb",
   "metadata": {},
   "outputs": [
    {
     "name": "stdout",
     "output_type": "stream",
     "text": [
      "        FCName  FCDemand FCRegion\n",
      "FCID                             \n",
      "FC00001   서울공장        28       북부\n",
      "FC00002   수원공장        29       북부\n",
      "FC00003   인천공장        31       북부\n",
      "FC00004   대전공장        25       북부\n",
      "FC00005   대구공장        21       남부\n",
      "FC00006   광주공장        30       남부\n",
      "FC00007   부산공장        25       남부\n",
      "FC00008   울산공장        16       남부\n",
      "        WHName  WHSupply WHRegion\n",
      "WHID                             \n",
      "WH00001   판교창고        35       북부\n",
      "WH00002   용인창고        41       북부\n",
      "WH00003   수원창고        42       북부\n",
      "WH00004   대전창고        60       남부\n",
      "WH00005   대구창고        72       남부\n",
      "WH00006   광주창고        65       남부\n",
      "            FCID     WHID  Cost\n",
      "RCostID                        \n",
      "1        FC00001  WH00001   0.4\n",
      "2        FC00001  WH00002   0.8\n",
      "3        FC00001  WH00003   1.5\n",
      "4        FC00002  WH00001   0.9\n",
      "5        FC00002  WH00002   0.8\n",
      "          TransactionDate     ToFC   FromWH  Quantity\n",
      "TRID                                                 \n",
      "0     2019-01-01 02:11:10  FC00004  WH00003        33\n",
      "1     2019-01-01 06:12:42  FC00007  WH00006        19\n",
      "2     2019-01-01 06:32:32  FC00006  WH00004        31\n",
      "3     2019-01-01 07:17:06  FC00002  WH00003        18\n",
      "4     2019-01-01 07:52:18  FC00001  WH00002        30\n"
     ]
    },
    {
     "data": {
      "text/html": [
       "<div>\n",
       "<style scoped>\n",
       "    .dataframe tbody tr th:only-of-type {\n",
       "        vertical-align: middle;\n",
       "    }\n",
       "\n",
       "    .dataframe tbody tr th {\n",
       "        vertical-align: top;\n",
       "    }\n",
       "\n",
       "    .dataframe thead th {\n",
       "        text-align: right;\n",
       "    }\n",
       "</style>\n",
       "<table border=\"1\" class=\"dataframe\">\n",
       "  <thead>\n",
       "    <tr style=\"text-align: right;\">\n",
       "      <th></th>\n",
       "      <th>TransactionDate</th>\n",
       "      <th>ToFC</th>\n",
       "      <th>FromWH</th>\n",
       "      <th>Quantity</th>\n",
       "      <th>FCID</th>\n",
       "      <th>WHID</th>\n",
       "      <th>Cost</th>\n",
       "    </tr>\n",
       "  </thead>\n",
       "  <tbody>\n",
       "    <tr>\n",
       "      <th>0</th>\n",
       "      <td>2019-01-01 02:11:10</td>\n",
       "      <td>FC00004</td>\n",
       "      <td>WH00003</td>\n",
       "      <td>33</td>\n",
       "      <td>FC00004</td>\n",
       "      <td>WH00003</td>\n",
       "      <td>1.1</td>\n",
       "    </tr>\n",
       "    <tr>\n",
       "      <th>1</th>\n",
       "      <td>2019-01-01 06:12:42</td>\n",
       "      <td>FC00007</td>\n",
       "      <td>WH00006</td>\n",
       "      <td>19</td>\n",
       "      <td>FC00007</td>\n",
       "      <td>WH00006</td>\n",
       "      <td>1.3</td>\n",
       "    </tr>\n",
       "    <tr>\n",
       "      <th>2</th>\n",
       "      <td>2019-01-01 06:32:32</td>\n",
       "      <td>FC00006</td>\n",
       "      <td>WH00004</td>\n",
       "      <td>31</td>\n",
       "      <td>FC00006</td>\n",
       "      <td>WH00004</td>\n",
       "      <td>0.9</td>\n",
       "    </tr>\n",
       "    <tr>\n",
       "      <th>3</th>\n",
       "      <td>2019-01-01 07:17:06</td>\n",
       "      <td>FC00002</td>\n",
       "      <td>WH00003</td>\n",
       "      <td>18</td>\n",
       "      <td>FC00002</td>\n",
       "      <td>WH00003</td>\n",
       "      <td>1.6</td>\n",
       "    </tr>\n",
       "    <tr>\n",
       "      <th>4</th>\n",
       "      <td>2019-01-01 07:52:18</td>\n",
       "      <td>FC00001</td>\n",
       "      <td>WH00002</td>\n",
       "      <td>30</td>\n",
       "      <td>FC00001</td>\n",
       "      <td>WH00002</td>\n",
       "      <td>0.8</td>\n",
       "    </tr>\n",
       "  </tbody>\n",
       "</table>\n",
       "</div>"
      ],
      "text/plain": [
       "       TransactionDate     ToFC   FromWH  Quantity     FCID     WHID  Cost\n",
       "0  2019-01-01 02:11:10  FC00004  WH00003        33  FC00004  WH00003   1.1\n",
       "1  2019-01-01 06:12:42  FC00007  WH00006        19  FC00007  WH00006   1.3\n",
       "2  2019-01-01 06:32:32  FC00006  WH00004        31  FC00006  WH00004   0.9\n",
       "3  2019-01-01 07:17:06  FC00002  WH00003        18  FC00002  WH00003   1.6\n",
       "4  2019-01-01 07:52:18  FC00001  WH00002        30  FC00001  WH00002   0.8"
      ]
     },
     "execution_count": 5,
     "metadata": {},
     "output_type": "execute_result"
    }
   ],
   "source": [
    "import pandas as pd\n",
    "\n",
    "# 공장데이터 불러오기\n",
    "factories = pd.read_csv(\"tbl_factory.csv\", index_col=0)\n",
    "print(factories)\n",
    "\n",
    "# 창고데이터 불러오기\n",
    "warehouses = pd.read_csv(\"tbl_warehouse.csv\", index_col=0)\n",
    "print(warehouses)\n",
    "\n",
    "# 비용 테이블\n",
    "cost = pd.read_csv(\"rel_cost.csv\", index_col=0)\n",
    "print(cost.head())\n",
    "\n",
    "# 운송 실적 테이블\n",
    "trans = pd.read_csv(\"tbl_transaction.csv\", index_col=0)\n",
    "print(trans.head())\n",
    "\n",
    "# 운송실적 테이블에 각 테이블을 조인\n",
    "# 비용 데이터추가\n",
    "join_data = pd.merge(trans, cost, left_on=[\"ToFC\",\"FromWH\"], right_on=[\"FCID\",\"WHID\"], how=\"left\")\n",
    "join_data.head()\n"
   ]
  },
  {
   "cell_type": "markdown",
   "id": "0a65d2f6-b308-4d8b-aaf9-d9a49c1a70d4",
   "metadata": {},
   "source": [
    "FCID : 공장데이터\n",
    "    \n",
    "    이 데이터가 각각 비용데이터, 운송실적데이터에도 있는 것으로 보아 이것이 키인 것을 알 수 있다.\n",
    "\n",
    "WHID : 창고데이터\n",
    "    \n",
    "    이 데이터가 각각 비용데이터, 운송실적데이터에도 있는 것으로 보아 이것이 키인 것을 알 수 있다."
   ]
  },
  {
   "cell_type": "markdown",
   "id": "caf243b9-1782-4244-ad9a-8707983937b4",
   "metadata": {},
   "source": [
    "pd.merge(left_data, right_data, left_on, right_on, how)\n",
    "\n",
    "    - left_data, right_data : 각각 데이터셋\n",
    "\n",
    "     - left_on, right_on : Object를 맞추는 기준이 무엇이니?\n",
    "         - 이때 기준 열은 중복을 허용하지 않고, 나머지의 열은 다 붙는다.\n",
    "\n",
    "    - 아래에선 FC, WH라는 2개의 col을 통해 Object를 맞추려고 한다.\n",
    "\n",
    "    - how : left join을 통해 이루려고 한다."
   ]
  },
  {
   "cell_type": "code",
   "execution_count": 7,
   "id": "0bf597eb-a6c6-4f82-ad46-5364bdc07c67",
   "metadata": {},
   "outputs": [
    {
     "data": {
      "text/html": [
       "<div>\n",
       "<style scoped>\n",
       "    .dataframe tbody tr th:only-of-type {\n",
       "        vertical-align: middle;\n",
       "    }\n",
       "\n",
       "    .dataframe tbody tr th {\n",
       "        vertical-align: top;\n",
       "    }\n",
       "\n",
       "    .dataframe thead th {\n",
       "        text-align: right;\n",
       "    }\n",
       "</style>\n",
       "<table border=\"1\" class=\"dataframe\">\n",
       "  <thead>\n",
       "    <tr style=\"text-align: right;\">\n",
       "      <th></th>\n",
       "      <th>TransactionDate</th>\n",
       "      <th>ToFC</th>\n",
       "      <th>FromWH</th>\n",
       "      <th>Quantity</th>\n",
       "      <th>FCID</th>\n",
       "      <th>WHID</th>\n",
       "      <th>Cost</th>\n",
       "    </tr>\n",
       "  </thead>\n",
       "  <tbody>\n",
       "    <tr>\n",
       "      <th>0</th>\n",
       "      <td>2019-01-01 02:11:10</td>\n",
       "      <td>FC00004</td>\n",
       "      <td>WH00003</td>\n",
       "      <td>33</td>\n",
       "      <td>FC00004</td>\n",
       "      <td>WH00003</td>\n",
       "      <td>1.1</td>\n",
       "    </tr>\n",
       "    <tr>\n",
       "      <th>1</th>\n",
       "      <td>2019-01-01 06:12:42</td>\n",
       "      <td>FC00007</td>\n",
       "      <td>WH00006</td>\n",
       "      <td>19</td>\n",
       "      <td>FC00007</td>\n",
       "      <td>WH00006</td>\n",
       "      <td>1.3</td>\n",
       "    </tr>\n",
       "    <tr>\n",
       "      <th>2</th>\n",
       "      <td>2019-01-01 06:32:32</td>\n",
       "      <td>FC00006</td>\n",
       "      <td>WH00004</td>\n",
       "      <td>31</td>\n",
       "      <td>FC00006</td>\n",
       "      <td>WH00004</td>\n",
       "      <td>0.9</td>\n",
       "    </tr>\n",
       "    <tr>\n",
       "      <th>3</th>\n",
       "      <td>2019-01-01 07:17:06</td>\n",
       "      <td>FC00002</td>\n",
       "      <td>WH00003</td>\n",
       "      <td>18</td>\n",
       "      <td>FC00002</td>\n",
       "      <td>WH00003</td>\n",
       "      <td>1.6</td>\n",
       "    </tr>\n",
       "    <tr>\n",
       "      <th>4</th>\n",
       "      <td>2019-01-01 07:52:18</td>\n",
       "      <td>FC00001</td>\n",
       "      <td>WH00002</td>\n",
       "      <td>30</td>\n",
       "      <td>FC00001</td>\n",
       "      <td>WH00002</td>\n",
       "      <td>0.8</td>\n",
       "    </tr>\n",
       "  </tbody>\n",
       "</table>\n",
       "</div>"
      ],
      "text/plain": [
       "       TransactionDate     ToFC   FromWH  Quantity     FCID     WHID  Cost\n",
       "0  2019-01-01 02:11:10  FC00004  WH00003        33  FC00004  WH00003   1.1\n",
       "1  2019-01-01 06:12:42  FC00007  WH00006        19  FC00007  WH00006   1.3\n",
       "2  2019-01-01 06:32:32  FC00006  WH00004        31  FC00006  WH00004   0.9\n",
       "3  2019-01-01 07:17:06  FC00002  WH00003        18  FC00002  WH00003   1.6\n",
       "4  2019-01-01 07:52:18  FC00001  WH00002        30  FC00001  WH00002   0.8"
      ]
     },
     "execution_count": 7,
     "metadata": {},
     "output_type": "execute_result"
    }
   ],
   "source": [
    "# 운송실적 테이블에 각 테이블을 조인\n",
    "# 비용 데이터추가\n",
    "join_data = pd.merge(trans, cost, left_on=[\"ToFC\",\"FromWH\"], right_on=[\"FCID\",\"WHID\"], how=\"left\")\n",
    "join_data.head()"
   ]
  },
  {
   "cell_type": "code",
   "execution_count": 8,
   "id": "7e6db3df-0005-46ad-b26b-e655d6ffc78c",
   "metadata": {},
   "outputs": [
    {
     "data": {
      "text/html": [
       "<div>\n",
       "<style scoped>\n",
       "    .dataframe tbody tr th:only-of-type {\n",
       "        vertical-align: middle;\n",
       "    }\n",
       "\n",
       "    .dataframe tbody tr th {\n",
       "        vertical-align: top;\n",
       "    }\n",
       "\n",
       "    .dataframe thead th {\n",
       "        text-align: right;\n",
       "    }\n",
       "</style>\n",
       "<table border=\"1\" class=\"dataframe\">\n",
       "  <thead>\n",
       "    <tr style=\"text-align: right;\">\n",
       "      <th></th>\n",
       "      <th>TransactionDate</th>\n",
       "      <th>ToFC</th>\n",
       "      <th>FromWH</th>\n",
       "      <th>Quantity</th>\n",
       "      <th>FCID</th>\n",
       "      <th>WHID</th>\n",
       "      <th>Cost</th>\n",
       "      <th>FCName</th>\n",
       "      <th>FCDemand</th>\n",
       "      <th>FCRegion</th>\n",
       "    </tr>\n",
       "  </thead>\n",
       "  <tbody>\n",
       "    <tr>\n",
       "      <th>0</th>\n",
       "      <td>2019-01-01 02:11:10</td>\n",
       "      <td>FC00004</td>\n",
       "      <td>WH00003</td>\n",
       "      <td>33</td>\n",
       "      <td>FC00004</td>\n",
       "      <td>WH00003</td>\n",
       "      <td>1.1</td>\n",
       "      <td>대전공장</td>\n",
       "      <td>25</td>\n",
       "      <td>북부</td>\n",
       "    </tr>\n",
       "    <tr>\n",
       "      <th>1</th>\n",
       "      <td>2019-01-01 06:12:42</td>\n",
       "      <td>FC00007</td>\n",
       "      <td>WH00006</td>\n",
       "      <td>19</td>\n",
       "      <td>FC00007</td>\n",
       "      <td>WH00006</td>\n",
       "      <td>1.3</td>\n",
       "      <td>부산공장</td>\n",
       "      <td>25</td>\n",
       "      <td>남부</td>\n",
       "    </tr>\n",
       "    <tr>\n",
       "      <th>2</th>\n",
       "      <td>2019-01-01 06:32:32</td>\n",
       "      <td>FC00006</td>\n",
       "      <td>WH00004</td>\n",
       "      <td>31</td>\n",
       "      <td>FC00006</td>\n",
       "      <td>WH00004</td>\n",
       "      <td>0.9</td>\n",
       "      <td>광주공장</td>\n",
       "      <td>30</td>\n",
       "      <td>남부</td>\n",
       "    </tr>\n",
       "    <tr>\n",
       "      <th>3</th>\n",
       "      <td>2019-01-01 07:17:06</td>\n",
       "      <td>FC00002</td>\n",
       "      <td>WH00003</td>\n",
       "      <td>18</td>\n",
       "      <td>FC00002</td>\n",
       "      <td>WH00003</td>\n",
       "      <td>1.6</td>\n",
       "      <td>수원공장</td>\n",
       "      <td>29</td>\n",
       "      <td>북부</td>\n",
       "    </tr>\n",
       "    <tr>\n",
       "      <th>4</th>\n",
       "      <td>2019-01-01 07:52:18</td>\n",
       "      <td>FC00001</td>\n",
       "      <td>WH00002</td>\n",
       "      <td>30</td>\n",
       "      <td>FC00001</td>\n",
       "      <td>WH00002</td>\n",
       "      <td>0.8</td>\n",
       "      <td>서울공장</td>\n",
       "      <td>28</td>\n",
       "      <td>북부</td>\n",
       "    </tr>\n",
       "  </tbody>\n",
       "</table>\n",
       "</div>"
      ],
      "text/plain": [
       "       TransactionDate     ToFC   FromWH  Quantity     FCID     WHID  Cost  \\\n",
       "0  2019-01-01 02:11:10  FC00004  WH00003        33  FC00004  WH00003   1.1   \n",
       "1  2019-01-01 06:12:42  FC00007  WH00006        19  FC00007  WH00006   1.3   \n",
       "2  2019-01-01 06:32:32  FC00006  WH00004        31  FC00006  WH00004   0.9   \n",
       "3  2019-01-01 07:17:06  FC00002  WH00003        18  FC00002  WH00003   1.6   \n",
       "4  2019-01-01 07:52:18  FC00001  WH00002        30  FC00001  WH00002   0.8   \n",
       "\n",
       "  FCName  FCDemand FCRegion  \n",
       "0   대전공장        25       북부  \n",
       "1   부산공장        25       남부  \n",
       "2   광주공장        30       남부  \n",
       "3   수원공장        29       북부  \n",
       "4   서울공장        28       북부  "
      ]
     },
     "execution_count": 8,
     "metadata": {},
     "output_type": "execute_result"
    }
   ],
   "source": [
    "# 공장정보 추가\n",
    "join_data = pd.merge(join_data, factories, left_on=\"ToFC\", right_on=\"FCID\", how=\"left\")\n",
    "join_data.head()"
   ]
  },
  {
   "cell_type": "markdown",
   "id": "68ec4e19-04de-4b04-9d4f-5b5bfe5be9d3",
   "metadata": {},
   "source": [
    "data = data[[\"Cost\",\"ToFC\",\"FromWH\",\"WHName\",\"WHSupply\",\"WHRegion\"]]\n",
    "\n",
    "열의 순서를 바꾸거나 특정 열만을 가져오려고 할때\n",
    "\n",
    "**double list를 사용한다."
   ]
  },
  {
   "cell_type": "code",
   "execution_count": 17,
   "id": "78642dff-0cf8-43d2-97cd-1f2b6c9fcdb8",
   "metadata": {},
   "outputs": [
    {
     "name": "stdout",
     "output_type": "stream",
     "text": [
      "          TransactionDate  Quantity  Cost     ToFC FCName  FCDemand   FromWH  \\\n",
      "0     2019-01-01 02:11:10        33   1.1  FC00004   대전공장        25  WH00003   \n",
      "1     2019-01-01 06:12:42        19   1.3  FC00007   부산공장        25  WH00006   \n",
      "2     2019-01-01 06:32:32        31   0.9  FC00006   광주공장        30  WH00004   \n",
      "3     2019-01-01 07:17:06        18   1.6  FC00002   수원공장        29  WH00003   \n",
      "4     2019-01-01 07:52:18        30   0.8  FC00001   서울공장        28  WH00002   \n",
      "...                   ...       ...   ...      ...    ...       ...      ...   \n",
      "3995  2019-12-31 11:27:51        29   1.3  FC00007   부산공장        25  WH00006   \n",
      "3996  2019-12-31 17:10:21        35   1.6  FC00002   수원공장        29  WH00003   \n",
      "3997  2019-12-31 19:35:07        36   1.2  FC00003   인천공장        31  WH00001   \n",
      "3998  2019-12-31 21:45:07        34   0.3  FC00005   대구공장        21  WH00005   \n",
      "3999  2019-12-31 23:19:37        16   0.3  FC00005   대구공장        21  WH00005   \n",
      "\n",
      "     WHName_x  WHSupply_x WHRegion_x WHName_y  WHSupply_y WHRegion_y WHName  \\\n",
      "0        수원창고          42         북부     수원창고          42         북부   수원창고   \n",
      "1        광주창고          65         남부     광주창고          65         남부   광주창고   \n",
      "2        대전창고          60         남부     대전창고          60         남부   대전창고   \n",
      "3        수원창고          42         북부     수원창고          42         북부   수원창고   \n",
      "4        용인창고          41         북부     용인창고          41         북부   용인창고   \n",
      "...       ...         ...        ...      ...         ...        ...    ...   \n",
      "3995     광주창고          65         남부     광주창고          65         남부   광주창고   \n",
      "3996     수원창고          42         북부     수원창고          42         북부   수원창고   \n",
      "3997     판교창고          35         북부     판교창고          35         북부   판교창고   \n",
      "3998     대구창고          72         남부     대구창고          72         남부   대구창고   \n",
      "3999     대구창고          72         남부     대구창고          72         남부   대구창고   \n",
      "\n",
      "      WHSupply WHRegion  \n",
      "0           42       북부  \n",
      "1           65       남부  \n",
      "2           60       남부  \n",
      "3           42       북부  \n",
      "4           41       북부  \n",
      "...        ...      ...  \n",
      "3995        65       남부  \n",
      "3996        42       북부  \n",
      "3997        35       북부  \n",
      "3998        72       남부  \n",
      "3999        72       남부  \n",
      "\n",
      "[4000 rows x 16 columns]\n"
     ]
    },
    {
     "data": {
      "text/html": [
       "<div>\n",
       "<style scoped>\n",
       "    .dataframe tbody tr th:only-of-type {\n",
       "        vertical-align: middle;\n",
       "    }\n",
       "\n",
       "    .dataframe tbody tr th {\n",
       "        vertical-align: top;\n",
       "    }\n",
       "\n",
       "    .dataframe thead th {\n",
       "        text-align: right;\n",
       "    }\n",
       "</style>\n",
       "<table border=\"1\" class=\"dataframe\">\n",
       "  <thead>\n",
       "    <tr style=\"text-align: right;\">\n",
       "      <th></th>\n",
       "      <th>TransactionDate</th>\n",
       "      <th>Quantity</th>\n",
       "      <th>Cost</th>\n",
       "      <th>ToFC</th>\n",
       "      <th>FCName</th>\n",
       "      <th>FCDemand</th>\n",
       "      <th>FromWH</th>\n",
       "      <th>WHName</th>\n",
       "      <th>WHSupply</th>\n",
       "      <th>WHRegion</th>\n",
       "    </tr>\n",
       "  </thead>\n",
       "  <tbody>\n",
       "    <tr>\n",
       "      <th>0</th>\n",
       "      <td>2019-01-01 02:11:10</td>\n",
       "      <td>33</td>\n",
       "      <td>1.1</td>\n",
       "      <td>FC00004</td>\n",
       "      <td>대전공장</td>\n",
       "      <td>25</td>\n",
       "      <td>WH00003</td>\n",
       "      <td>수원창고</td>\n",
       "      <td>42</td>\n",
       "      <td>북부</td>\n",
       "    </tr>\n",
       "    <tr>\n",
       "      <th>1</th>\n",
       "      <td>2019-01-01 06:12:42</td>\n",
       "      <td>19</td>\n",
       "      <td>1.3</td>\n",
       "      <td>FC00007</td>\n",
       "      <td>부산공장</td>\n",
       "      <td>25</td>\n",
       "      <td>WH00006</td>\n",
       "      <td>광주창고</td>\n",
       "      <td>65</td>\n",
       "      <td>남부</td>\n",
       "    </tr>\n",
       "    <tr>\n",
       "      <th>2</th>\n",
       "      <td>2019-01-01 06:32:32</td>\n",
       "      <td>31</td>\n",
       "      <td>0.9</td>\n",
       "      <td>FC00006</td>\n",
       "      <td>광주공장</td>\n",
       "      <td>30</td>\n",
       "      <td>WH00004</td>\n",
       "      <td>대전창고</td>\n",
       "      <td>60</td>\n",
       "      <td>남부</td>\n",
       "    </tr>\n",
       "    <tr>\n",
       "      <th>3</th>\n",
       "      <td>2019-01-01 07:17:06</td>\n",
       "      <td>18</td>\n",
       "      <td>1.6</td>\n",
       "      <td>FC00002</td>\n",
       "      <td>수원공장</td>\n",
       "      <td>29</td>\n",
       "      <td>WH00003</td>\n",
       "      <td>수원창고</td>\n",
       "      <td>42</td>\n",
       "      <td>북부</td>\n",
       "    </tr>\n",
       "    <tr>\n",
       "      <th>4</th>\n",
       "      <td>2019-01-01 07:52:18</td>\n",
       "      <td>30</td>\n",
       "      <td>0.8</td>\n",
       "      <td>FC00001</td>\n",
       "      <td>서울공장</td>\n",
       "      <td>28</td>\n",
       "      <td>WH00002</td>\n",
       "      <td>용인창고</td>\n",
       "      <td>41</td>\n",
       "      <td>북부</td>\n",
       "    </tr>\n",
       "  </tbody>\n",
       "</table>\n",
       "</div>"
      ],
      "text/plain": [
       "       TransactionDate  Quantity  Cost     ToFC FCName  FCDemand   FromWH  \\\n",
       "0  2019-01-01 02:11:10        33   1.1  FC00004   대전공장        25  WH00003   \n",
       "1  2019-01-01 06:12:42        19   1.3  FC00007   부산공장        25  WH00006   \n",
       "2  2019-01-01 06:32:32        31   0.9  FC00006   광주공장        30  WH00004   \n",
       "3  2019-01-01 07:17:06        18   1.6  FC00002   수원공장        29  WH00003   \n",
       "4  2019-01-01 07:52:18        30   0.8  FC00001   서울공장        28  WH00002   \n",
       "\n",
       "  WHName  WHSupply WHRegion  \n",
       "0   수원창고        42       북부  \n",
       "1   광주창고        65       남부  \n",
       "2   대전창고        60       남부  \n",
       "3   수원창고        42       북부  \n",
       "4   용인창고        41       북부  "
      ]
     },
     "execution_count": 17,
     "metadata": {},
     "output_type": "execute_result"
    }
   ],
   "source": [
    "# 창고정보 추가\n",
    "join_data = pd.merge(join_data, warehouses, left_on=\"FromWH\", right_on=\"WHID\", how=\"left\")\n",
    "\n",
    "print(join_data)\n",
    "# 컬럼 정리\n",
    "# 열의 위치를 바꾼 것이다.\n",
    "join_data = join_data[[\"TransactionDate\",\"Quantity\",\"Cost\",\"ToFC\",\"FCName\",\"FCDemand\",\"FromWH\",\"WHName\",\"WHSupply\",\"WHRegion\"]]\n",
    "join_data.head()"
   ]
  },
  {
   "cell_type": "markdown",
   "id": "e5232810-d452-460f-918f-6067ecd8c864",
   "metadata": {},
   "source": [
    "north = join_data.loc[join_data[\"WHRegion\"]==\"북부\"]\n",
    "\n",
    "특정 조건의 데이터를 뽑고 있다."
   ]
  },
  {
   "cell_type": "code",
   "execution_count": 18,
   "id": "84cfc936-1381-46f5-9848-ca7604f57cd4",
   "metadata": {},
   "outputs": [
    {
     "data": {
      "text/html": [
       "<div>\n",
       "<style scoped>\n",
       "    .dataframe tbody tr th:only-of-type {\n",
       "        vertical-align: middle;\n",
       "    }\n",
       "\n",
       "    .dataframe tbody tr th {\n",
       "        vertical-align: top;\n",
       "    }\n",
       "\n",
       "    .dataframe thead th {\n",
       "        text-align: right;\n",
       "    }\n",
       "</style>\n",
       "<table border=\"1\" class=\"dataframe\">\n",
       "  <thead>\n",
       "    <tr style=\"text-align: right;\">\n",
       "      <th></th>\n",
       "      <th>TransactionDate</th>\n",
       "      <th>Quantity</th>\n",
       "      <th>Cost</th>\n",
       "      <th>ToFC</th>\n",
       "      <th>FCName</th>\n",
       "      <th>FCDemand</th>\n",
       "      <th>FromWH</th>\n",
       "      <th>WHName</th>\n",
       "      <th>WHSupply</th>\n",
       "      <th>WHRegion</th>\n",
       "    </tr>\n",
       "  </thead>\n",
       "  <tbody>\n",
       "    <tr>\n",
       "      <th>0</th>\n",
       "      <td>2019-01-01 02:11:10</td>\n",
       "      <td>33</td>\n",
       "      <td>1.1</td>\n",
       "      <td>FC00004</td>\n",
       "      <td>대전공장</td>\n",
       "      <td>25</td>\n",
       "      <td>WH00003</td>\n",
       "      <td>수원창고</td>\n",
       "      <td>42</td>\n",
       "      <td>북부</td>\n",
       "    </tr>\n",
       "    <tr>\n",
       "      <th>3</th>\n",
       "      <td>2019-01-01 07:17:06</td>\n",
       "      <td>18</td>\n",
       "      <td>1.6</td>\n",
       "      <td>FC00002</td>\n",
       "      <td>수원공장</td>\n",
       "      <td>29</td>\n",
       "      <td>WH00003</td>\n",
       "      <td>수원창고</td>\n",
       "      <td>42</td>\n",
       "      <td>북부</td>\n",
       "    </tr>\n",
       "    <tr>\n",
       "      <th>4</th>\n",
       "      <td>2019-01-01 07:52:18</td>\n",
       "      <td>30</td>\n",
       "      <td>0.8</td>\n",
       "      <td>FC00001</td>\n",
       "      <td>서울공장</td>\n",
       "      <td>28</td>\n",
       "      <td>WH00002</td>\n",
       "      <td>용인창고</td>\n",
       "      <td>41</td>\n",
       "      <td>북부</td>\n",
       "    </tr>\n",
       "    <tr>\n",
       "      <th>7</th>\n",
       "      <td>2019-01-01 09:09:30</td>\n",
       "      <td>12</td>\n",
       "      <td>1.5</td>\n",
       "      <td>FC00001</td>\n",
       "      <td>서울공장</td>\n",
       "      <td>28</td>\n",
       "      <td>WH00003</td>\n",
       "      <td>수원창고</td>\n",
       "      <td>42</td>\n",
       "      <td>북부</td>\n",
       "    </tr>\n",
       "    <tr>\n",
       "      <th>8</th>\n",
       "      <td>2019-01-01 10:52:55</td>\n",
       "      <td>27</td>\n",
       "      <td>1.5</td>\n",
       "      <td>FC00003</td>\n",
       "      <td>인천공장</td>\n",
       "      <td>31</td>\n",
       "      <td>WH00003</td>\n",
       "      <td>수원창고</td>\n",
       "      <td>42</td>\n",
       "      <td>북부</td>\n",
       "    </tr>\n",
       "  </tbody>\n",
       "</table>\n",
       "</div>"
      ],
      "text/plain": [
       "       TransactionDate  Quantity  Cost     ToFC FCName  FCDemand   FromWH  \\\n",
       "0  2019-01-01 02:11:10        33   1.1  FC00004   대전공장        25  WH00003   \n",
       "3  2019-01-01 07:17:06        18   1.6  FC00002   수원공장        29  WH00003   \n",
       "4  2019-01-01 07:52:18        30   0.8  FC00001   서울공장        28  WH00002   \n",
       "7  2019-01-01 09:09:30        12   1.5  FC00001   서울공장        28  WH00003   \n",
       "8  2019-01-01 10:52:55        27   1.5  FC00003   인천공장        31  WH00003   \n",
       "\n",
       "  WHName  WHSupply WHRegion  \n",
       "0   수원창고        42       북부  \n",
       "3   수원창고        42       북부  \n",
       "4   용인창고        41       북부  \n",
       "7   수원창고        42       북부  \n",
       "8   수원창고        42       북부  "
      ]
     },
     "execution_count": 18,
     "metadata": {},
     "output_type": "execute_result"
    }
   ],
   "source": [
    "# 북부 데이터 추출\n",
    "north = join_data.loc[join_data[\"WHRegion\"]==\"북부\"]\n",
    "north.head()"
   ]
  },
  {
   "cell_type": "code",
   "execution_count": 19,
   "id": "fab40fee-7f97-4347-8b7c-8b224d8a2941",
   "metadata": {},
   "outputs": [
    {
     "data": {
      "text/html": [
       "<div>\n",
       "<style scoped>\n",
       "    .dataframe tbody tr th:only-of-type {\n",
       "        vertical-align: middle;\n",
       "    }\n",
       "\n",
       "    .dataframe tbody tr th {\n",
       "        vertical-align: top;\n",
       "    }\n",
       "\n",
       "    .dataframe thead th {\n",
       "        text-align: right;\n",
       "    }\n",
       "</style>\n",
       "<table border=\"1\" class=\"dataframe\">\n",
       "  <thead>\n",
       "    <tr style=\"text-align: right;\">\n",
       "      <th></th>\n",
       "      <th>TransactionDate</th>\n",
       "      <th>Quantity</th>\n",
       "      <th>Cost</th>\n",
       "      <th>ToFC</th>\n",
       "      <th>FCName</th>\n",
       "      <th>FCDemand</th>\n",
       "      <th>FromWH</th>\n",
       "      <th>WHName</th>\n",
       "      <th>WHSupply</th>\n",
       "      <th>WHRegion</th>\n",
       "    </tr>\n",
       "  </thead>\n",
       "  <tbody>\n",
       "    <tr>\n",
       "      <th>1</th>\n",
       "      <td>2019-01-01 06:12:42</td>\n",
       "      <td>19</td>\n",
       "      <td>1.3</td>\n",
       "      <td>FC00007</td>\n",
       "      <td>부산공장</td>\n",
       "      <td>25</td>\n",
       "      <td>WH00006</td>\n",
       "      <td>광주창고</td>\n",
       "      <td>65</td>\n",
       "      <td>남부</td>\n",
       "    </tr>\n",
       "    <tr>\n",
       "      <th>2</th>\n",
       "      <td>2019-01-01 06:32:32</td>\n",
       "      <td>31</td>\n",
       "      <td>0.9</td>\n",
       "      <td>FC00006</td>\n",
       "      <td>광주공장</td>\n",
       "      <td>30</td>\n",
       "      <td>WH00004</td>\n",
       "      <td>대전창고</td>\n",
       "      <td>60</td>\n",
       "      <td>남부</td>\n",
       "    </tr>\n",
       "    <tr>\n",
       "      <th>5</th>\n",
       "      <td>2019-01-01 08:56:09</td>\n",
       "      <td>31</td>\n",
       "      <td>0.3</td>\n",
       "      <td>FC00005</td>\n",
       "      <td>대구공장</td>\n",
       "      <td>21</td>\n",
       "      <td>WH00005</td>\n",
       "      <td>대구창고</td>\n",
       "      <td>72</td>\n",
       "      <td>남부</td>\n",
       "    </tr>\n",
       "    <tr>\n",
       "      <th>6</th>\n",
       "      <td>2019-01-01 09:00:15</td>\n",
       "      <td>33</td>\n",
       "      <td>0.7</td>\n",
       "      <td>FC00006</td>\n",
       "      <td>광주공장</td>\n",
       "      <td>30</td>\n",
       "      <td>WH00006</td>\n",
       "      <td>광주창고</td>\n",
       "      <td>65</td>\n",
       "      <td>남부</td>\n",
       "    </tr>\n",
       "    <tr>\n",
       "      <th>9</th>\n",
       "      <td>2019-01-01 14:12:51</td>\n",
       "      <td>21</td>\n",
       "      <td>0.7</td>\n",
       "      <td>FC00006</td>\n",
       "      <td>광주공장</td>\n",
       "      <td>30</td>\n",
       "      <td>WH00006</td>\n",
       "      <td>광주창고</td>\n",
       "      <td>65</td>\n",
       "      <td>남부</td>\n",
       "    </tr>\n",
       "  </tbody>\n",
       "</table>\n",
       "</div>"
      ],
      "text/plain": [
       "       TransactionDate  Quantity  Cost     ToFC FCName  FCDemand   FromWH  \\\n",
       "1  2019-01-01 06:12:42        19   1.3  FC00007   부산공장        25  WH00006   \n",
       "2  2019-01-01 06:32:32        31   0.9  FC00006   광주공장        30  WH00004   \n",
       "5  2019-01-01 08:56:09        31   0.3  FC00005   대구공장        21  WH00005   \n",
       "6  2019-01-01 09:00:15        33   0.7  FC00006   광주공장        30  WH00006   \n",
       "9  2019-01-01 14:12:51        21   0.7  FC00006   광주공장        30  WH00006   \n",
       "\n",
       "  WHName  WHSupply WHRegion  \n",
       "1   광주창고        65       남부  \n",
       "2   대전창고        60       남부  \n",
       "5   대구창고        72       남부  \n",
       "6   광주창고        65       남부  \n",
       "9   광주창고        65       남부  "
      ]
     },
     "execution_count": 19,
     "metadata": {},
     "output_type": "execute_result"
    }
   ],
   "source": [
    "# 남부데이터 추출\n",
    "south = join_data.loc[join_data[\"WHRegion\"]==\"남부\"]\n",
    "south.head()"
   ]
  },
  {
   "cell_type": "markdown",
   "id": "e38626f1-255c-40a9-91e2-e32c93a46bc4",
   "metadata": {},
   "source": [
    "## 52 : 현재 운송량, 비용을 확인하자"
   ]
  },
  {
   "cell_type": "markdown",
   "id": "d39afb16-f7ca-44be-adff-7dd4b0877975",
   "metadata": {},
   "source": [
    "str(north[\"Cost\"].sum())\n",
    "\n",
    "해당 열의 모든 object의 값을 가져와서 합한다.\n",
    "\n",
    "str(cost_chk[\"Cost\"].loc[cost_chk[\"FCRegion\"]==\"북부\"].mean())\n",
    "\n",
    "loc()내의 조건문을 참으로 충족하는 Cost열의 값의 mean을 구한다."
   ]
  },
  {
   "cell_type": "code",
   "execution_count": 20,
   "id": "34c01978-fb56-4859-9f40-5e6006e02152",
   "metadata": {},
   "outputs": [
    {
     "name": "stdout",
     "output_type": "stream",
     "text": [
      "북부지사 총비용: 2189.3만원\n",
      "남부지사 총비용: 2062.0만원\n"
     ]
    }
   ],
   "source": [
    "# 지사의 비용합계 계산\n",
    "print(\"북부지사 총비용: \" + str(north[\"Cost\"].sum()) + \"만원\")\n",
    "print(\"남부지사 총비용: \" + str(south[\"Cost\"].sum()) + \"만원\")"
   ]
  },
  {
   "cell_type": "code",
   "execution_count": 21,
   "id": "8c016c6e-f589-4442-963e-ef4b56073332",
   "metadata": {},
   "outputs": [
    {
     "name": "stdout",
     "output_type": "stream",
     "text": [
      "북부지사의 총부품 운송개수: 49146개\n",
      "남부지사의 총부품 운송개수: 50214개\n"
     ]
    }
   ],
   "source": [
    "# 지사의 총운송개수\n",
    "print(\"북부지사의 총부품 운송개수: \" + str(north[\"Quantity\"].sum()) + \"개\")\n",
    "print(\"남부지사의 총부품 운송개수: \" + str(south[\"Quantity\"].sum()) + \"개\")"
   ]
  },
  {
   "cell_type": "code",
   "execution_count": 22,
   "id": "79a1c984-e746-4ee9-920e-91bcb3613418",
   "metadata": {},
   "outputs": [
    {
     "name": "stdout",
     "output_type": "stream",
     "text": [
      "북부지사의 부품 1개당 운송 비용: 445원\n",
      "남부지사의 부품 1개당 운송 비용: 410원\n"
     ]
    }
   ],
   "source": [
    "# 부품 1개당 운송비용\n",
    "tmp = (north[\"Cost\"].sum() / north[\"Quantity\"].sum()) * 10000\n",
    "print(\"북부지사의 부품 1개당 운송 비용: \" + str(int(tmp)) + \"원\")\n",
    "tmp = (south[\"Cost\"].sum() / south[\"Quantity\"].sum()) * 10000\n",
    "print(\"남부지사의 부품 1개당 운송 비용: \" + str(int(tmp)) + \"원\")"
   ]
  },
  {
   "cell_type": "code",
   "execution_count": 23,
   "id": "cb199bc0-7384-400c-b82a-88c3897b8b4c",
   "metadata": {},
   "outputs": [
    {
     "name": "stdout",
     "output_type": "stream",
     "text": [
      "북부지사의 평균 운송 비용：1.075원\n",
      "남부지사의 평균 운송 비용：1.05원\n"
     ]
    }
   ],
   "source": [
    "# 비용을 지사별로 집계\n",
    "cost_chk = pd.merge(cost, factories, on=\"FCID\", how=\"left\")\n",
    "# 평균\n",
    "print(\"북부지사의 평균 운송 비용：\" + str(cost_chk[\"Cost\"].loc[cost_chk[\"FCRegion\"]==\"북부\"].mean()) + \"원\")\n",
    "print(\"남부지사의 평균 운송 비용：\" + str(cost_chk[\"Cost\"].loc[cost_chk[\"FCRegion\"]==\"남부\"].mean()) + \"원\")"
   ]
  },
  {
   "cell_type": "markdown",
   "id": "a3cd7546-772a-4b3a-bfd5-eb66354b888c",
   "metadata": {},
   "source": [
    "## 53 : 네트워크를 가시화해보자"
   ]
  },
  {
   "cell_type": "code",
   "execution_count": 24,
   "id": "a219d959-f272-49be-a2e3-fae46d359705",
   "metadata": {},
   "outputs": [
    {
     "data": {
      "image/png": "[encoded data removed]",
      "text/plain": [
       "<Figure size 640x480 with 1 Axes>"
      ]
     },
     "metadata": {},
     "output_type": "display_data"
    }
   ],
   "source": [
    "import networkx as nx\n",
    "import matplotlib.pyplot as plt\n",
    "\n",
    "# 그래프 객체생성\n",
    "G=nx.Graph()\n",
    "\n",
    "# 노드 설정\n",
    "G.add_node(\"nodeA\")\n",
    "G.add_node(\"nodeB\")\n",
    "G.add_node(\"nodeC\")\n",
    "\n",
    "# 엣지 설정\n",
    "G.add_edge(\"nodeA\",\"nodeB\")\n",
    "G.add_edge(\"nodeA\",\"nodeC\")\n",
    "G.add_edge(\"nodeB\",\"nodeC\")\n",
    "\n",
    "# 좌표 설정\n",
    "pos={}\n",
    "pos[\"nodeA\"]=(0,0)\n",
    "pos[\"nodeB\"]=(1,1)\n",
    "pos[\"nodeC\"]=(0,1)\n",
    "\n",
    "# 그리기\n",
    "nx.draw(G,pos)\n",
    "\n",
    "# 표시\n",
    "plt.show()"
   ]
  },
  {
   "cell_type": "markdown",
   "id": "f23b679f-53fa-433b-98e1-23d67c146e96",
   "metadata": {},
   "source": [
    "## 54 : 네트워크에 노드를 추가해보자"
   ]
  },
  {
   "cell_type": "markdown",
   "id": "092b4702-dffb-4412-a473-302859349f2e",
   "metadata": {},
   "source": [
    "nx.draw(G,pos, with_labels=True)\n",
    "\n",
    "이전과 내용은 같지만 with_labels가 True라는 인수를 받았다.\n",
    "\n",
    "pos는 각 노드의 좌표를 나타내는데 \n",
    "\n",
    "이를 dict 형식으로 각 노드에 2차원 좌표를 넣는 것이 예시이다."
   ]
  },
  {
   "cell_type": "code",
   "execution_count": 25,
   "id": "db195f41-94d7-48de-9dca-35aaff00a153",
   "metadata": {},
   "outputs": [
    {
     "data": {
      "image/png": "[encoded data removed]",
      "text/plain": [
       "<Figure size 640x480 with 1 Axes>"
      ]
     },
     "metadata": {},
     "output_type": "display_data"
    }
   ],
   "source": [
    "import networkx as nx\n",
    "import matplotlib.pyplot as plt\n",
    "\n",
    "# 그래프 객체 생성．\n",
    "G=nx.Graph()\n",
    "\n",
    "# 노드 설정\n",
    "G.add_node(\"nodeA\")\n",
    "G.add_node(\"nodeB\")\n",
    "G.add_node(\"nodeC\")\n",
    "G.add_node(\"nodeD\")\n",
    "\n",
    "# 엣지 설정\n",
    "G.add_edge(\"nodeA\",\"nodeB\")\n",
    "G.add_edge(\"nodeA\",\"nodeC\")\n",
    "G.add_edge(\"nodeB\",\"nodeC\")\n",
    "G.add_edge(\"nodeA\",\"nodeD\")\n",
    "\n",
    "# 좌표 설정\n",
    "pos={}\n",
    "pos[\"nodeA\"]=(0,0)\n",
    "pos[\"nodeB\"]=(1,1)\n",
    "pos[\"nodeC\"]=(0,1)\n",
    "pos[\"nodeD\"]=(1,0)\n",
    "\n",
    "# 그리기\n",
    "nx.draw(G,pos, with_labels=True)\n",
    "\n",
    "# 표시\n",
    "plt.show()"
   ]
  },
  {
   "cell_type": "markdown",
   "id": "155b98b7-eff7-4d31-b141-c0e6e5dfaf9f",
   "metadata": {},
   "source": [
    "## 55 : 경로에 가중치를 부여하자"
   ]
  },
  {
   "cell_type": "markdown",
   "id": "703596b9-b77b-48f4-b6f8-cf8157b7f732",
   "metadata": {},
   "source": [
    "G = nx.Graph()\n",
    "- 그래프 객체를 생성하고 있다.\n",
    "\n",
    "G.add_node(df_w.columns[i])\n",
    "- 아래의 index인 a,b,c,d,e를 각각 노드로 넣고 있다.\n",
    "\n",
    "(df_w.columns)\n",
    "- Index(['A', 'B', 'C', 'D', 'E'], dtype='object') 이 내용을 출력한다.\n",
    "\n",
    "(df_w.columns)\n",
    "- ㅈㅇ\n",
    "\n",
    "G.add_edge(df_w.columns[i],df_w.columns[j])\n",
    "- (a,b)(a,c)(a,d)(a,e)(b,a) ... 등을 연결하는 edge를 넣고 있다.\n",
    "\n",
    "df_w.iloc[i][j]*size\n",
    "- 각 노드의 엣지마다 있는 가중치를 저장해주었다.\n",
    "- 이를 i행, j열에 있는 값을 가져오는 것이다.\n",
    "\n",
    "np.round(edge_weights[-1],5)\n",
    "- 해당 값을 5자리까지 반올림하여 구하기\n",
    "- 위가 계속 추가되는 리스트이므로 [-1]을 넣는 것이다.\n",
    "\n",
    "Tip : 엣지 설정과 엣지의 가중치 작성을 동시에 진행해야 한다.\n",
    "\n",
    "이렇게 하면 엣지의 수와 엣지의 가중치의 수가 달라지지 않는다."
   ]
  },
  {
   "cell_type": "code",
   "execution_count": 41,
   "id": "39ce73a5-9a55-416b-a069-7fb45ce292ab",
   "metadata": {},
   "outputs": [
    {
     "name": "stdout",
     "output_type": "stream",
     "text": [
      "          A         B         C         D         E\n",
      "0  0.639921  0.143353  0.944669  0.521848  0.000000\n",
      "1  0.264556  0.000000  0.456150  0.568434  0.000000\n",
      "2  0.617635  0.612096  0.616934  0.943748  0.000000\n",
      "3  0.000000  0.000000  0.697631  0.060225  0.666767\n",
      "4  0.670638  0.210383  0.000000  0.315428  0.000000\n",
      "   A  B  C  D  E\n",
      "0  0  0  2  2  1\n",
      "1  0  2  0  2  1\n",
      "(A, B) = 1.43353\n",
      "(A, C) = 9.44669\n",
      "(A, D) = 5.21848\n",
      "(A, E) = 0.0\n",
      "(B, C) = 4.5615\n",
      "(B, D) = 5.68434\n",
      "(B, E) = 0.0\n",
      "(C, D) = 9.43748\n",
      "(C, E) = 0.0\n",
      "(D, E) = 6.66767\n"
     ]
    },
    {
     "name": "stderr",
     "output_type": "stream",
     "text": [
      "C:\\Users\\wjddn\\AppData\\Local\\Temp\\ipykernel_18620\\1713481013.py:39: FutureWarning: Series.__getitem__ treating keys as positions is deprecated. In a future version, integer keys will always be treated as labels (consistent with DataFrame behavior). To access a value by position, use `ser.iloc[pos]`\n",
      "  edge_weights.append(df_w.iloc[i][j]*size)\n"
     ]
    },
    {
     "data": {
      "image/png": "[encoded data removed]",
      "text/plain": [
       "<Figure size 640x480 with 1 Axes>"
      ]
     },
     "metadata": {},
     "output_type": "display_data"
    }
   ],
   "source": [
    "import pandas as pd\n",
    "import numpy as np\n",
    "import matplotlib.pyplot as plt\n",
    "import networkx as nx\n",
    "\n",
    "# 데이터 불러오기\n",
    "df_w = pd.read_csv('network_weight.csv')\n",
    "df_p = pd.read_csv('network_pos.csv')\n",
    "print(df_w)\n",
    "print(df_p)\n",
    "# 그래프 객체 생성\n",
    "G = nx.Graph()\n",
    "\n",
    "# 노드 설정\n",
    "####\n",
    "#print(df_w.columns)\n",
    "####\n",
    "for i in range(len(df_w.columns)):\n",
    "    G.add_node(df_w.columns[i])\n",
    "\n",
    "# 엣지 설정 & 가중치 리스트화\n",
    "size = 10\n",
    "edge_weights = []\n",
    "num_pre = 0\n",
    "\n",
    "# 엣지 가중치 확인용 번역자 추가 코드\n",
    "name = ['A','B','C','D','E']\n",
    "\n",
    "for i in range(len(df_w.columns)):\n",
    "    for j in range(len(df_w.columns)):\n",
    "        if not (i==j):\n",
    "            # 엣지 추가\n",
    "            G.add_edge(df_w.columns[i],df_w.columns[j])\n",
    "            #print(df_w.columns[i],df_w.columns[j])\n",
    "            if num_pre<len(G.edges):\n",
    "                num_pre = len(G.edges)\n",
    "                #print(num_pre)\n",
    "                \n",
    "                # 엣지 가중치 추가\n",
    "                edge_weights.append(df_w.iloc[i][j]*size)\n",
    "    \n",
    "                #print(df_w.iloc[1][1])\n",
    "                # 엣지 가중치 확인용 번역자 추가 코드\n",
    "                print(f'({name[i]}, {name[j]}) = {np.round(edge_weights[-1],5)}')\n",
    "               \n",
    "\n",
    "# 좌표 설정\n",
    "pos = {}\n",
    "for i in range(len(df_w.columns)):\n",
    "    node = df_w.columns[i]\n",
    "    pos[node] = (df_p[node][0],df_p[node][1])\n",
    "\n",
    "# 그리기\n",
    "nx.draw(G, pos, with_labels=True,font_size=16, node_size = 1000, node_color='k', font_color='w', width=edge_weights)\n",
    "\n",
    "# 표시\n",
    "plt.show()"
   ]
  },
  {
   "cell_type": "code",
   "execution_count": 42,
   "id": "2501e12e-5afe-4f27-a618-465375e4a4b4",
   "metadata": {},
   "outputs": [
    {
     "data": {
      "text/plain": [
       "np.float64(6.66767)"
      ]
     },
     "execution_count": 42,
     "metadata": {},
     "output_type": "execute_result"
    }
   ],
   "source": [
    "np.round(edge_weights[-1],5) "
   ]
  },
  {
   "cell_type": "code",
   "execution_count": 48,
   "id": "76126996-3adc-481c-b354-f84d4667694e",
   "metadata": {},
   "outputs": [
    {
     "data": {
      "text/plain": [
       "[np.float64(1.4335300000000002),\n",
       " np.float64(9.44669),\n",
       " np.float64(5.21848),\n",
       " np.float64(0.0),\n",
       " np.float64(4.5615),\n",
       " np.float64(5.68434),\n",
       " np.float64(0.0),\n",
       " np.float64(9.43748),\n",
       " np.float64(0.0),\n",
       " np.float64(6.66767)]"
      ]
     },
     "execution_count": 48,
     "metadata": {},
     "output_type": "execute_result"
    }
   ],
   "source": [
    "edge_weights"
   ]
  },
  {
   "cell_type": "code",
   "execution_count": 49,
   "id": "49816a16-fc7f-42e5-8cb6-85cc4fc86a18",
   "metadata": {},
   "outputs": [
    {
     "data": {
      "text/plain": [
       "np.int64(1)"
      ]
     },
     "execution_count": 49,
     "metadata": {},
     "output_type": "execute_result"
    }
   ],
   "source": [
    "np.round(1,5)"
   ]
  },
  {
   "cell_type": "markdown",
   "id": "6819839a-2db6-460c-bc3f-853ac7d73461",
   "metadata": {},
   "source": [
    "## 56 : 운송경로 정보를 불러오자"
   ]
  },
  {
   "cell_type": "code",
   "execution_count": 31,
   "id": "e5cd6938-c3ed-45fa-931c-2fa77ee8e040",
   "metadata": {},
   "outputs": [
    {
     "data": {
      "text/html": [
       "<div>\n",
       "<style scoped>\n",
       "    .dataframe tbody tr th:only-of-type {\n",
       "        vertical-align: middle;\n",
       "    }\n",
       "\n",
       "    .dataframe tbody tr th {\n",
       "        vertical-align: top;\n",
       "    }\n",
       "\n",
       "    .dataframe thead th {\n",
       "        text-align: right;\n",
       "    }\n",
       "</style>\n",
       "<table border=\"1\" class=\"dataframe\">\n",
       "  <thead>\n",
       "    <tr style=\"text-align: right;\">\n",
       "      <th></th>\n",
       "      <th>F1</th>\n",
       "      <th>F2</th>\n",
       "      <th>F3</th>\n",
       "      <th>F4</th>\n",
       "    </tr>\n",
       "    <tr>\n",
       "      <th>공장</th>\n",
       "      <th></th>\n",
       "      <th></th>\n",
       "      <th></th>\n",
       "      <th></th>\n",
       "    </tr>\n",
       "  </thead>\n",
       "  <tbody>\n",
       "    <tr>\n",
       "      <th>W1</th>\n",
       "      <td>15</td>\n",
       "      <td>15</td>\n",
       "      <td>0</td>\n",
       "      <td>5</td>\n",
       "    </tr>\n",
       "    <tr>\n",
       "      <th>W2</th>\n",
       "      <td>5</td>\n",
       "      <td>0</td>\n",
       "      <td>30</td>\n",
       "      <td>5</td>\n",
       "    </tr>\n",
       "    <tr>\n",
       "      <th>W3</th>\n",
       "      <td>10</td>\n",
       "      <td>15</td>\n",
       "      <td>2</td>\n",
       "      <td>15</td>\n",
       "    </tr>\n",
       "  </tbody>\n",
       "</table>\n",
       "</div>"
      ],
      "text/plain": [
       "    F1  F2  F3  F4\n",
       "공장                \n",
       "W1  15  15   0   5\n",
       "W2   5   0  30   5\n",
       "W3  10  15   2  15"
      ]
     },
     "execution_count": 31,
     "metadata": {},
     "output_type": "execute_result"
    }
   ],
   "source": [
    "import pandas as pd\n",
    "\n",
    "df_tr = pd.read_csv('trans_route.csv', index_col=\"공장\")\n",
    "df_tr.head()"
   ]
  },
  {
   "cell_type": "markdown",
   "id": "df813865-4060-4118-9e96-bd5ca54a41da",
   "metadata": {},
   "source": [
    "## 57 : 운송경로정보로 네트워크를 가시화해보자"
   ]
  },
  {
   "cell_type": "markdown",
   "id": "eed2e70c-b287-42ab-a14a-4f76a072edfd",
   "metadata": {},
   "source": [
    "df_tr\n",
    "\n",
    " F1  F2  F3  F4\n",
    " \r\n",
    "공장                \n",
    "\r\n",
    "W1  15  15   0  \n",
    " 5\r\n",
    "W2   5   0  30  \n",
    " 5\r\n",
    "W3  10  15   2 \n",
    " 15\n",
    "df\n",
    "\n",
    "-   W1  W2  W3   F1   F2   F3   F4\r\n",
    "- \n",
    "0   0   0   0  4.0  4.0  4.0  4.0\n",
    "- \r\n",
    "1   1   2   3  0.5  1.5  2.5  3\n",
    "\n",
    "df_tr.columns.- Index(['F1', 'F2', 'F3', 'F4'], dtype='object')\n",
    "  5\n",
    "s\n",
    "- \n",
    "df_pos.columns\n",
    "- Index(['W1', 'W2', 'W3', 'F1', 'F2', 'F3', 'F4'], dtype='ob\n",
    "\n",
    "df_tr.index\n",
    "- Index(['W1', 'W2', 'W3'], dtype='object', name='공장')ject')\n",
    "G.add_edge\n",
    "- edge\n",
    "  를 넣는 것\n",
    "G.edges\n",
    "- 넣은 edge를 list in tuple 형식으로 저장된 edge들을 가져온다."
   ]
  },
  {
   "cell_type": "code",
   "execution_count": 56,
   "id": "36758d24-2f8c-48f5-b7f5-544f0b946148",
   "metadata": {},
   "outputs": [
    {
     "name": "stdout",
     "output_type": "stream",
     "text": [
      "    F1  F2  F3  F4\n",
      "공장                \n",
      "W1  15  15   0   5\n",
      "W2   5   0  30   5\n",
      "W3  10  15   2  15\n",
      "   W1  W2  W3   F1   F2   F3   F4\n",
      "0   0   0   0  4.0  4.0  4.0  4.0\n",
      "1   1   2   3  0.5  1.5  2.5  3.5\n"
     ]
    },
    {
     "data": {
      "image/png": "[encoded data removed]",
      "text/plain": [
       "<Figure size 640x480 with 1 Axes>"
      ]
     },
     "metadata": {},
     "output_type": "display_data"
    }
   ],
   "source": [
    "import pandas as pd\n",
    "import matplotlib.pyplot as plt\n",
    "import networkx as nx\n",
    "\n",
    "df_tr = pd.read_csv('trans_route.csv', index_col=\"공장\")\n",
    "df_pos = pd.read_csv('trans_route_pos.csv')\n",
    "\n",
    "print(df_tr)\n",
    "print(df_pos)\n",
    "\n",
    "# 그래프 객체 생성\n",
    "G = nx.Graph()\n",
    "\n",
    "# 노드 설정\n",
    "for i in range(len(df_pos.columns)):\n",
    "    G.add_node(df_pos.columns[i])\n",
    "\n",
    "# 엣지 설정 및 가중치 리스트화\n",
    "num_pre = 0\n",
    "edge_weights = []\n",
    "size = 0.1\n",
    "for i in range(len(df_pos.columns)):\n",
    "    for j in range(len(df_pos.columns)):\n",
    "        if not (i==j):\n",
    "            # 엣지 추가\n",
    "            G.add_edge(df_pos.columns[i],df_pos.columns[j])\n",
    "\n",
    "            #print(df_pos.columns)\n",
    "            #print(G.edges)\n",
    "            # 엣지 가중치 추가\n",
    "            if num_pre<len(G.edges):\n",
    "                num_pre = len(G.edges)\n",
    "                weight = 0\n",
    "                if (df_pos.columns[i] in df_tr.columns)and(df_pos.columns[j] in df_tr.index):\n",
    "                    if df_tr[df_pos.columns[i]][df_pos.columns[j]]:\n",
    "                        weight = df_tr[df_pos.columns[i]][df_pos.columns[j]]*size\n",
    "                elif(df_pos.columns[j] in df_tr.columns)and(df_pos.columns[i] in df_tr.index):\n",
    "                    if df_tr[df_pos.columns[j]][df_pos.columns[i]]:\n",
    "                        weight = df_tr[df_pos.columns[j]][df_pos.columns[i]]*size\n",
    "                edge_weights.append(weight)\n",
    "                \n",
    "\n",
    "# 좌표 설정\n",
    "pos = {}\n",
    "for i in range(len(df_pos.columns)):\n",
    "    node = df_pos.columns[i]\n",
    "    pos[node] = (df_pos[node][0],df_pos[node][1])\n",
    "    \n",
    "# 그리기\n",
    "nx.draw(G, pos, with_labels=True,font_size=16, node_size = 1000, node_color='k', font_color='w', width=edge_weights)\n",
    "\n",
    "# 표시\n",
    "plt.show()"
   ]
  },
  {
   "cell_type": "markdown",
   "id": "b9220bad-c961-4e38-a395-360b64b4e45d",
   "metadata": {},
   "source": [
    "## 58 운송비용함수를 작성하자"
   ]
  },
  {
   "cell_type": "code",
   "execution_count": null,
   "id": "600dcd25-3661-480e-9eb5-e552ca912b1c",
   "metadata": {},
   "outputs": [],
   "source": [
    "df_tr\n",
    "\tF1\tF2\tF3\tF4\n",
    "공장\t\t\t\t\n",
    "W1\t15\t15\t0\t5\n",
    "W2\t5\t0\t30\t5\n",
    "W3\t10\t15\t2\t15\n",
    "\n",
    "df_tc\n",
    "\tF1\tF2\tF3\tF4\n",
    "공장\t\t\t\t\n",
    "W1\t10\t10\t11\t27\n",
    "W2\t18\t21\t12\t14\n",
    "W3\t15\t12\t14\t12\n",
    "\n",
    "print(df_tr.iloc[i][j])\n",
    "15 15 0 5 5 0 30 5 10 15 2 15"
   ]
  },
  {
   "cell_type": "code",
   "execution_count": 63,
   "id": "f4dd5021-a0a2-491f-8952-caa22fac6370",
   "metadata": {},
   "outputs": [
    {
     "name": "stdout",
     "output_type": "stream",
     "text": [
      "총 운송 비용:1493\n"
     ]
    },
    {
     "name": "stderr",
     "output_type": "stream",
     "text": [
      "C:\\Users\\wjddn\\AppData\\Local\\Temp\\ipykernel_18620\\529623366.py:12: FutureWarning: Series.__getitem__ treating keys as positions is deprecated. In a future version, integer keys will always be treated as labels (consistent with DataFrame behavior). To access a value by position, use `ser.iloc[pos]`\n",
      "  cost += df_tr.iloc[i][j]*df_tc.iloc[i][j]\n"
     ]
    }
   ],
   "source": [
    "import pandas as pd\n",
    "\n",
    "# 데이터 불러오기\n",
    "df_tr = pd.read_csv('trans_route.csv', index_col=\"공장\")\n",
    "df_tc = pd.read_csv('trans_cost.csv', index_col=\"공장\")\n",
    "\n",
    "# 운송 비용 함수\n",
    "def trans_cost(df_tr,df_tc):\n",
    "    cost = 0\n",
    "    for i in range(len(df_tc.index)):\n",
    "        for j in range(len(df_tr.columns)):\n",
    "            cost += df_tr.iloc[i][j]*df_tc.iloc[i][j]\n",
    "            #print(df_tr.iloc[i][j])\n",
    "    return cost\n",
    "\n",
    "print(\"총 운송 비용:\"+str(trans_cost(df_tr,df_tc)))\n"
   ]
  },
  {
   "cell_type": "markdown",
   "id": "a28a9324-c828-4108-9fe6-4241ac8bbd56",
   "metadata": {},
   "source": [
    "## 59 제약조건을 만들어보자"
   ]
  },
  {
   "cell_type": "markdown",
   "id": "39a8acad-be4d-48c8-9e50-3c9e7aa0683c",
   "metadata": {},
   "source": [
    "temp_sum = sum(df_tr[df_demand.columns[i]])\n",
    "- 해당 열에 있는 모든 값의 합을 나타낸다."
   ]
  },
  {
   "cell_type": "code",
   "execution_count": 62,
   "id": "528da8d9-f384-4f20-87d4-6f513dcf0dff",
   "metadata": {},
   "outputs": [
    {
     "name": "stdout",
     "output_type": "stream",
     "text": [
      "30\n",
      "F1으로 운송량:30 (수요량:28)\n",
      "수요량을 만족시키고있음\n",
      "30\n",
      "F2으로 운송량:30 (수요량:29)\n",
      "수요량을 만족시키고있음\n",
      "32\n",
      "F3으로 운송량:32 (수요량:31)\n",
      "수요량을 만족시키고있음\n",
      "25\n",
      "F4으로 운송량:25 (수요량:25)\n",
      "수요량을 만족시키고있음\n",
      "W1부터의 운송량:35 (공급한계:35)\n",
      "공급한계 범위내\n",
      "W2부터의 운송량:40 (공급한계:41)\n",
      "공급한계 범위내\n",
      "W3부터의 운송량:42 (공급한계:42)\n",
      "공급한계 범위내\n"
     ]
    },
    {
     "name": "stderr",
     "output_type": "stream",
     "text": [
      "C:\\Users\\wjddn\\AppData\\Local\\Temp\\ipykernel_18620\\1184557585.py:12: FutureWarning: Series.__getitem__ treating keys as positions is deprecated. In a future version, integer keys will always be treated as labels (consistent with DataFrame behavior). To access a value by position, use `ser.iloc[pos]`\n",
      "  print(str(df_demand.columns[i])+\"으로 운송량:\"+str(temp_sum)+\" (수요량:\"+str(df_demand.iloc[0][i])+\")\")\n",
      "C:\\Users\\wjddn\\AppData\\Local\\Temp\\ipykernel_18620\\1184557585.py:13: FutureWarning: Series.__getitem__ treating keys as positions is deprecated. In a future version, integer keys will always be treated as labels (consistent with DataFrame behavior). To access a value by position, use `ser.iloc[pos]`\n",
      "  if temp_sum>=df_demand.iloc[0][i]:\n",
      "C:\\Users\\wjddn\\AppData\\Local\\Temp\\ipykernel_18620\\1184557585.py:21: FutureWarning: Series.__getitem__ treating keys as positions is deprecated. In a future version, integer keys will always be treated as labels (consistent with DataFrame behavior). To access a value by position, use `ser.iloc[pos]`\n",
      "  print(str(df_supply.columns[i])+\"부터의 운송량:\"+str(temp_sum)+\" (공급한계:\"+str(df_supply.iloc[0][i])+\")\")\n",
      "C:\\Users\\wjddn\\AppData\\Local\\Temp\\ipykernel_18620\\1184557585.py:22: FutureWarning: Series.__getitem__ treating keys as positions is deprecated. In a future version, integer keys will always be treated as labels (consistent with DataFrame behavior). To access a value by position, use `ser.iloc[pos]`\n",
      "  if temp_sum<=df_supply.iloc[0][i]:\n"
     ]
    }
   ],
   "source": [
    "import pandas as pd\n",
    "\n",
    "# 데이터 불러오기\n",
    "df_tr = pd.read_csv('trans_route.csv', index_col=\"공장\")\n",
    "df_demand = pd.read_csv('demand.csv')\n",
    "df_supply = pd.read_csv('supply.csv')\n",
    "\n",
    "# 수요측 제약조건\n",
    "for i in range(len(df_demand.columns)):\n",
    "    temp_sum = sum(df_tr[df_demand.columns[i]])\n",
    "    #print(temp_sum)\n",
    "    print(str(df_demand.columns[i])+\"으로 운송량:\"+str(temp_sum)+\" (수요량:\"+str(df_demand.iloc[0][i])+\")\")\n",
    "    if temp_sum>=df_demand.iloc[0][i]:\n",
    "        print(\"수요량을 만족시키고있음\")\n",
    "    else:\n",
    "        print(\"수요량을 만족시키지 못하고 있음. 운송경로 재계산 필요\")\n",
    "\n",
    "# 공급측 제약조건\n",
    "for i in range(len(df_supply.columns)):\n",
    "    temp_sum = sum(df_tr.loc[df_supply.columns[i]])\n",
    "    print(str(df_supply.columns[i])+\"부터의 운송량:\"+str(temp_sum)+\" (공급한계:\"+str(df_supply.iloc[0][i])+\")\")\n",
    "    if temp_sum<=df_supply.iloc[0][i]:\n",
    "        print(\"공급한계 범위내\")\n",
    "    else:\n",
    "        print(\"공급한계 초과. 운송경로 재계산 필요\")"
   ]
  },
  {
   "cell_type": "markdown",
   "id": "df38605d-5994-4035-9f8b-366422d410df",
   "metadata": {},
   "source": [
    "## 60 운송경로를 변경해서, 운송비용함수의 변화를 확인"
   ]
  },
  {
   "cell_type": "markdown",
   "id": "f5233c49-3a69-4869-ab11-1aa1f7c2ce37",
   "metadata": {},
   "source": [
    "df_tr_new\n",
    "    F1  F2  F3  F4\n",
    "공장                \n",
    "W1  15  15   0   0\n",
    "W2   5   0  30  10\n",
    "W3  10  15   2  15"
   ]
  },
  {
   "cell_type": "markdown",
   "id": "b552e37c-a8fc-4d64-8119-8b344327941d",
   "metadata": {},
   "source": [
    "여기서 변경점 : W1 to F4 로의 운송을 줄이고, 그만큼을 W2에서 F4로의 운송으로 보충하게 변경한 경로"
   ]
  },
  {
   "cell_type": "code",
   "execution_count": 68,
   "id": "7719f818-afb4-480d-8035-87ce0671f62b",
   "metadata": {},
   "outputs": [
    {
     "name": "stdout",
     "output_type": "stream",
     "text": [
      "    F1  F2  F3  F4\n",
      "공장                \n",
      "W1  15  15   0   0\n",
      "W2   5   0  30  10\n",
      "W3  10  15   2  15\n",
      "총 운송 비용(변경 후):1428\n",
      "[0. 0. 0. 0.]\n",
      "수요조건 계산결과:[1. 1. 1. 1.]\n",
      "공급조건 계산결과:[1. 0. 1.]\n"
     ]
    },
    {
     "name": "stderr",
     "output_type": "stream",
     "text": [
      "C:\\Users\\wjddn\\AppData\\Local\\Temp\\ipykernel_18620\\529623366.py:12: FutureWarning: Series.__getitem__ treating keys as positions is deprecated. In a future version, integer keys will always be treated as labels (consistent with DataFrame behavior). To access a value by position, use `ser.iloc[pos]`\n",
      "  cost += df_tr.iloc[i][j]*df_tc.iloc[i][j]\n",
      "C:\\Users\\wjddn\\AppData\\Local\\Temp\\ipykernel_18620\\760614617.py:18: FutureWarning: Series.__getitem__ treating keys as positions is deprecated. In a future version, integer keys will always be treated as labels (consistent with DataFrame behavior). To access a value by position, use `ser.iloc[pos]`\n",
      "  if (temp_sum>=df_demand.iloc[0][i]):\n",
      "C:\\Users\\wjddn\\AppData\\Local\\Temp\\ipykernel_18620\\760614617.py:27: FutureWarning: Series.__getitem__ treating keys as positions is deprecated. In a future version, integer keys will always be treated as labels (consistent with DataFrame behavior). To access a value by position, use `ser.iloc[pos]`\n",
      "  if temp_sum<=df_supply.iloc[0][i]:\n"
     ]
    }
   ],
   "source": [
    "import pandas as pd\n",
    "import numpy as np\n",
    "\n",
    "# 데이터 불러오기\n",
    "df_tr_new = pd.read_csv('trans_route_new.csv', index_col=\"공장\")\n",
    "print(df_tr_new)\n",
    "\n",
    "# 총 운송비용 재계산 \n",
    "print(\"총 운송 비용(변경 후):\"+str(trans_cost(df_tr_new,df_tc)))\n",
    "\n",
    "# 제약조건 계산함수\n",
    "# 수요측\n",
    "def condition_demand(df_tr,df_demand):\n",
    "    flag = np.zeros(len(df_demand.columns))\n",
    "    print(flag)\n",
    "    for i in range(len(df_demand.columns)):\n",
    "        temp_sum = sum(df_tr[df_demand.columns[i]])\n",
    "        if (temp_sum>=df_demand.iloc[0][i]):\n",
    "            flag[i] = 1\n",
    "    return flag\n",
    "\n",
    "# 공급측\n",
    "def condition_supply(df_tr,df_supply):\n",
    "    flag = np.zeros(len(df_supply.columns))\n",
    "    for i in range(len(df_supply.columns)):\n",
    "        temp_sum = sum(df_tr.loc[df_supply.columns[i]])\n",
    "        if temp_sum<=df_supply.iloc[0][i]:\n",
    "            flag[i] = 1\n",
    "    return flag\n",
    "\n",
    "print(\"수요조건 계산결과:\"+str(condition_demand(df_tr_new,df_demand)))\n",
    "print(\"공급조건 계산결과:\"+str(condition_supply(df_tr_new,df_supply)))"
   ]
  },
  {
   "cell_type": "code",
   "execution_count": 67,
   "id": "6911af3f-8ee7-4ad8-83da-3dd014d0b8da",
   "metadata": {},
   "outputs": [
    {
     "data": {
      "text/plain": [
       "array([0., 0., 0., 0.])"
      ]
     },
     "execution_count": 67,
     "metadata": {},
     "output_type": "execute_result"
    }
   ],
   "source": [
    "np.zeros(len(df_demand.columns))"
   ]
  },
  {
   "cell_type": "code",
   "execution_count": null,
   "id": "8fb8de62-d771-4c5e-bd47-cd25b2c150c5",
   "metadata": {},
   "outputs": [],
   "source": []
  }
 ],
 "metadata": {
  "kernelspec": {
   "display_name": "Python 3 (ipykernel)",
   "language": "python",
   "name": "python3"
  },
  "language_info": {
   "codemirror_mode": {
    "name": "ipython",
    "version": 3
   },
   "file_extension": ".py",
   "mimetype": "text/x-python",
   "name": "python",
   "nbconvert_exporter": "python",
   "pygments_lexer": "ipython3",
   "version": "3.9.18"
  }
 },
 "nbformat": 4,
 "nbformat_minor": 5
}
